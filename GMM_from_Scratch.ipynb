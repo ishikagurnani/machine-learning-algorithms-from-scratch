{
  "nbformat": 4,
  "nbformat_minor": 0,
  "metadata": {
    "colab": {
      "name": "GMM from Scratch.ipynb",
      "provenance": []
    },
    "kernelspec": {
      "name": "python3",
      "display_name": "Python 3"
    },
    "language_info": {
      "name": "python"
    }
  },
  "cells": [
    {
      "cell_type": "markdown",
      "metadata": {
        "id": "L8gzaRr5z1Xq"
      },
      "source": [
        "### Importing all the libraries needed."
      ]
    },
    {
      "cell_type": "code",
      "metadata": {
        "id": "nK5lWepjTWqa"
      },
      "source": [
        "%matplotlib inline\n",
        "import matplotlib.pyplot as plt\n",
        "import numpy as np\n",
        "import pandas as pd\n",
        "from scipy.stats import multivariate_normal"
      ],
      "execution_count": null,
      "outputs": []
    },
    {
      "cell_type": "markdown",
      "metadata": {
        "id": "QCQlFytqz7F5"
      },
      "source": [
        "### Read the dataset provided using pandas read_csv()."
      ]
    },
    {
      "cell_type": "code",
      "metadata": {
        "colab": {
          "base_uri": "https://localhost:8080/",
          "height": 204
        },
        "id": "3kQxnuVtUuRY",
        "outputId": "d3377397-5a43-4bb8-f7f1-542a63e6f19e"
      },
      "source": [
        "dataset = pd.read_csv('UAS_ML2021_DATASET02.csv')\n",
        "dataset.head()"
      ],
      "execution_count": null,
      "outputs": [
        {
          "output_type": "execute_result",
          "data": {
            "text/html": [
              "<div>\n",
              "<style scoped>\n",
              "    .dataframe tbody tr th:only-of-type {\n",
              "        vertical-align: middle;\n",
              "    }\n",
              "\n",
              "    .dataframe tbody tr th {\n",
              "        vertical-align: top;\n",
              "    }\n",
              "\n",
              "    .dataframe thead th {\n",
              "        text-align: right;\n",
              "    }\n",
              "</style>\n",
              "<table border=\"1\" class=\"dataframe\">\n",
              "  <thead>\n",
              "    <tr style=\"text-align: right;\">\n",
              "      <th></th>\n",
              "      <th>Atribut_01</th>\n",
              "      <th>Atribut_02</th>\n",
              "    </tr>\n",
              "  </thead>\n",
              "  <tbody>\n",
              "    <tr>\n",
              "      <th>0</th>\n",
              "      <td>67.062924</td>\n",
              "      <td>176.086355</td>\n",
              "    </tr>\n",
              "    <tr>\n",
              "      <th>1</th>\n",
              "      <td>68.804094</td>\n",
              "      <td>178.388669</td>\n",
              "    </tr>\n",
              "    <tr>\n",
              "      <th>2</th>\n",
              "      <td>60.930863</td>\n",
              "      <td>170.284496</td>\n",
              "    </tr>\n",
              "    <tr>\n",
              "      <th>3</th>\n",
              "      <td>59.733843</td>\n",
              "      <td>168.691992</td>\n",
              "    </tr>\n",
              "    <tr>\n",
              "      <th>4</th>\n",
              "      <td>65.431230</td>\n",
              "      <td>173.763679</td>\n",
              "    </tr>\n",
              "  </tbody>\n",
              "</table>\n",
              "</div>"
            ],
            "text/plain": [
              "   Atribut_01  Atribut_02\n",
              "0   67.062924  176.086355\n",
              "1   68.804094  178.388669\n",
              "2   60.930863  170.284496\n",
              "3   59.733843  168.691992\n",
              "4   65.431230  173.763679"
            ]
          },
          "metadata": {
            "tags": []
          },
          "execution_count": 2
        }
      ]
    },
    {
      "cell_type": "markdown",
      "metadata": {
        "id": "xBUTjmtg0Cg0"
      },
      "source": [
        "### Converting the dataset from dataframe type to array so that we can compile the GMM function from scratch."
      ]
    },
    {
      "cell_type": "code",
      "metadata": {
        "id": "NiyaaDZKpvFD"
      },
      "source": [
        "X = dataset.to_numpy()"
      ],
      "execution_count": null,
      "outputs": []
    },
    {
      "cell_type": "markdown",
      "metadata": {
        "id": "WkHfX8pI0TKC"
      },
      "source": [
        "### __init__ function is a function for initializing the number of k and the maximum iteration.\n",
        "### initialize function: n is the number of rows in the dataset and m is the number of columns in the dataset. initial weights for each clusters are stored in the phi variable and the weights variable is the final weight for each clusters. random_row is randomly dividing the datasets into k (the number of cluster we assign). next is initializing the means and the covariance matrix.\n",
        "### e_step: in this step we are calculating weights and phi.\n",
        "### m_step: in this step we are updating means, covariance and phi.\n",
        "### fit: this is the function to fit the clusters by initializing e_step and m_step aka the weight, phi, covariance matrix, means.\n",
        "### predict_proba: here we predict the probability of each clusters and log-likehood.\n",
        "### predict: the final function to predict."
      ]
    },
    {
      "cell_type": "code",
      "metadata": {
        "id": "VgguCbSKppfv"
      },
      "source": [
        "class GMM:\n",
        "  def __init__(self, k, max_iter=5):\n",
        "    self.k = k\n",
        "    self.max_iter = int(max_iter)\n",
        "\n",
        "  def initialize(self, X):\n",
        "    self.shape = X.shape\n",
        "    self.n, self.m = self.shape\n",
        "\n",
        "    self.phi = np.full(shape=self.k, fill_value=1/self.k)\n",
        "    self.weights = np.full(shape=self.shape, fill_value=1/self.k)\n",
        "\n",
        "    random_row = np.random.randint(low=0, high=self.n, size=self.k)\n",
        "    self.mu = [X[row_index, :] for row_index in random_row]\n",
        "    self.sigma = [np.cov(X.T) for _ in range(self.k)]\n",
        "\n",
        "  def e_step(self, X):\n",
        "    self.weights = self.predict_proba(X)\n",
        "    self.phi = self.weights.mean(axis=0)\n",
        "\n",
        "  def m_step(self, X):\n",
        "    for i in range(self.k):\n",
        "      weight = self.weights[:, [i]]\n",
        "      total_weight = weight.sum()\n",
        "      self.mu[i] = (X * weight).sum(axis=0) / total_weight\n",
        "      self.sigma[i] = np.cov(X.T, aweights=(weight/total_weight).flatten(), bias=True)\n",
        "\n",
        "  def fit(self, X):\n",
        "    self.initialize(X)\n",
        "\n",
        "    for iteration in range(self.max_iter):\n",
        "      self.e_step(X)\n",
        "      self.m_step(X)\n",
        "\n",
        "  def predict_proba(self, X):\n",
        "    likelihood = np.zeros((self.n, self.k))\n",
        "    for i in range(self.k):\n",
        "      distribution = multivariate_normal(\n",
        "          mean = self.mu[i],\n",
        "          cov = self.sigma[i]\n",
        "      )\n",
        "      likelihood[:, i] = distribution.pdf(X)\n",
        "\n",
        "    numerator = likelihood * self.phi\n",
        "    denominator = numerator.sum(axis=1)[:, np.newaxis]\n",
        "    weights = numerator / denominator\n",
        "    return weights\n",
        "\n",
        "  def predict(self, X):\n",
        "    weights = self.predict_proba(X)\n",
        "    return np.argmax(weights, axis=1)"
      ],
      "execution_count": null,
      "outputs": []
    },
    {
      "cell_type": "markdown",
      "metadata": {
        "id": "NKSn0tmQ5-ui"
      },
      "source": [
        "### In this step, we use the function we just created to predict the labels. I have tried 6 k values (2, 3, 4, 5, 6, 7) and used the predict function. Next, we are going to use Silhouette Scores to find the best k value."
      ]
    },
    {
      "cell_type": "code",
      "metadata": {
        "id": "eeJJLBKlqKb8"
      },
      "source": [
        "np.random.seed(42)\n",
        "# k = 2\n",
        "gmm = GMM(k=2, max_iter=20)\n",
        "gmm.fit(X)\n",
        "labels = gmm.predict(X)\n",
        "# k = 3\n",
        "gmm1 = GMM(k=3, max_iter=20)\n",
        "gmm1.fit(X)\n",
        "labels1 = gmm1.predict(X)\n",
        "# k = 4\n",
        "gmm2 = GMM(k=4, max_iter=20)\n",
        "gmm2.fit(X)\n",
        "labels2 = gmm2.predict(X)\n",
        "# k = 5\n",
        "gmm3 = GMM(k=5, max_iter=20)\n",
        "gmm3.fit(X)\n",
        "labels3 = gmm3.predict(X)\n",
        "# k = 6\n",
        "gmm4 = GMM(k=6, max_iter=20)\n",
        "gmm4.fit(X)\n",
        "labels4 = gmm4.predict(X)\n",
        "# k = 7\n",
        "gmm5 = GMM(k=7, max_iter=20)\n",
        "gmm5.fit(X)\n",
        "labels5 = gmm5.predict(X)"
      ],
      "execution_count": null,
      "outputs": []
    },
    {
      "cell_type": "markdown",
      "metadata": {
        "id": "jdvKqzic6ZXR"
      },
      "source": [
        "### By using the silhouette_score function provided by sklearn.metrics library, I have printed the scores for the 6 k values I selected before. We can see that k=4 has the best silhouette score so I selected k as 4 and plotted the clusters for visualization."
      ]
    },
    {
      "cell_type": "code",
      "metadata": {
        "colab": {
          "base_uri": "https://localhost:8080/"
        },
        "id": "6_4gavG-sEtw",
        "outputId": "c6c4fb10-ffb7-4a62-b032-80498c928c85"
      },
      "source": [
        "from sklearn.metrics import silhouette_score\n",
        "\n",
        "print(f'Silhouette Score(k=2): {silhouette_score(dataset, labels)}')\n",
        "print(f'Silhouette Score(k=3): {silhouette_score(dataset, labels1)}')\n",
        "print(f'Silhouette Score(k=4): {silhouette_score(dataset, labels2)}')\n",
        "print(f'Silhouette Score(k=5): {silhouette_score(dataset, labels3)}')\n",
        "print(f'Silhouette Score(k=6): {silhouette_score(dataset, labels4)}')\n",
        "print(f'Silhouette Score(k=7): {silhouette_score(dataset, labels5)}')"
      ],
      "execution_count": null,
      "outputs": [
        {
          "output_type": "stream",
          "text": [
            "Silhouette Score(k=2): 0.2866576028400884\n",
            "Silhouette Score(k=3): 0.3452671317030747\n",
            "Silhouette Score(k=4): 0.6009974999854912\n",
            "Silhouette Score(k=5): 0.563187234191368\n",
            "Silhouette Score(k=6): 0.45474041272033633\n",
            "Silhouette Score(k=7): 0.4251337401067077\n"
          ],
          "name": "stdout"
        }
      ]
    },
    {
      "cell_type": "markdown",
      "metadata": {
        "id": "rkdyFDBv6-Qy"
      },
      "source": [
        "### Below is the visualization. We can see that the clusters have divided into 4 in quite a good way but next I'm going to use the scikit library to compare my results below."
      ]
    },
    {
      "cell_type": "code",
      "metadata": {
        "colab": {
          "base_uri": "https://localhost:8080/",
          "height": 265
        },
        "id": "xPx8mBoIqZKX",
        "outputId": "6e79c631-d830-4b6c-a32e-b741e0264094"
      },
      "source": [
        "frame = dataset\n",
        "frame['cluster'] = labels2\n",
        "frame.columns = ['01', '02', 'cluster']\n",
        "\n",
        "color = ['blue', 'green', 'yellow', 'cyan']\n",
        "for k in range(0, 4):\n",
        "    data = frame[frame[\"cluster\"] == k]\n",
        "    plt.scatter(data[\"01\"], data[\"02\"], c=color[k])\n",
        "plt.show()"
      ],
      "execution_count": null,
      "outputs": [
        {
          "output_type": "display_data",
          "data": {
            "image/png": "[encoded data removed]",
            "text/plain": [
              "<Figure size 432x288 with 1 Axes>"
            ]
          },
          "metadata": {
            "tags": [],
            "needs_background": "light"
          }
        }
      ]
    },
    {
      "cell_type": "markdown",
      "metadata": {
        "id": "U3pRZPyV7Xkf"
      },
      "source": [
        "### Calling the GaussianMixture function from the scikit.mixture library and fitting then predicting the gmm model for 6 k values (2, 3, 4, 5, 6, 7)."
      ]
    },
    {
      "cell_type": "code",
      "metadata": {
        "id": "IuR3mPd7VJU-"
      },
      "source": [
        "from sklearn.mixture import GaussianMixture\n",
        "\n",
        "gmm_library = GaussianMixture(n_components=2).fit(X)\n",
        "label = gmm_library.predict(X)\n",
        "\n",
        "gmm_library1 = GaussianMixture(n_components=3).fit(X)\n",
        "label1 = gmm_library1.predict(X)\n",
        "\n",
        "gmm_library2 = GaussianMixture(n_components=4).fit(X)\n",
        "label2 = gmm_library2.predict(X)\n",
        "\n",
        "gmm_library3 = GaussianMixture(n_components=5).fit(X)\n",
        "label3 = gmm_library3.predict(X)\n",
        "\n",
        "gmm_library4 = GaussianMixture(n_components=6).fit(X)\n",
        "label4 = gmm_library4.predict(X)\n",
        "\n",
        "gmm_library5 = GaussianMixture(n_components=7).fit(X)\n",
        "label5 = gmm_library5.predict(X)"
      ],
      "execution_count": null,
      "outputs": []
    },
    {
      "cell_type": "markdown",
      "metadata": {
        "id": "025xEVg87nQ_"
      },
      "source": [
        "### Same as before, I have printed the silhouette scores for all the k values and here I got that k=3 has the best score, so I'm going to visualize the clusters using k=3."
      ]
    },
    {
      "cell_type": "code",
      "metadata": {
        "colab": {
          "base_uri": "https://localhost:8080/"
        },
        "id": "BS4206etcSSW",
        "outputId": "66cadb12-878e-412c-975e-a5da16065bd6"
      },
      "source": [
        "from sklearn.metrics import silhouette_score\n",
        "\n",
        "print(f'Silhouette Score(k=2): {silhouette_score(dataset, label)}')\n",
        "print(f'Silhouette Score(k=3): {silhouette_score(dataset, label1)}')\n",
        "print(f'Silhouette Score(k=4): {silhouette_score(dataset, label2)}')\n",
        "print(f'Silhouette Score(k=5): {silhouette_score(dataset, label3)}')\n",
        "print(f'Silhouette Score(k=6): {silhouette_score(dataset, label4)}')\n",
        "print(f'Silhouette Score(k=7): {silhouette_score(dataset, labels5)}')"
      ],
      "execution_count": null,
      "outputs": [
        {
          "output_type": "stream",
          "text": [
            "Silhouette Score(k=2): 0.6519708145482093\n",
            "Silhouette Score(k=3): 0.7368904960425261\n",
            "Silhouette Score(k=4): 0.6205524431950971\n",
            "Silhouette Score(k=5): 0.539658083289608\n",
            "Silhouette Score(k=6): 0.46657294904556773\n",
            "Silhouette Score(k=7): 0.4397929320183785\n"
          ],
          "name": "stdout"
        }
      ]
    },
    {
      "cell_type": "markdown",
      "metadata": {
        "id": "LpXknXo872xF"
      },
      "source": [
        "### The plot is actually quite similar as the plot above using GMM from scratch the only difference is in the amount of clusters. So, I can conclude that GMM from scratch and using the scikit library gave me quite similar results."
      ]
    },
    {
      "cell_type": "code",
      "metadata": {
        "colab": {
          "base_uri": "https://localhost:8080/",
          "height": 265
        },
        "id": "X3WSw4vfYWrR",
        "outputId": "3ad0cc15-9564-4255-ead9-e16700719775"
      },
      "source": [
        "frame = dataset\n",
        "frame['cluster'] = label1\n",
        "frame.columns = ['Atribut_01', 'Atribut_02', 'cluster']\n",
        "\n",
        "color=['blue', 'green', 'yellow']\n",
        "for k in range(0, 3):\n",
        "    data = frame[frame[\"cluster\"] == k]\n",
        "    plt.scatter(data[\"Atribut_01\"], data[\"Atribut_02\"], c=color[k])\n",
        "plt.show()"
      ],
      "execution_count": null,
      "outputs": [
        {
          "output_type": "display_data",
          "data": {
            "image/png": "[encoded data removed]",
            "text/plain": [
              "<Figure size 432x288 with 1 Axes>"
            ]
          },
          "metadata": {
            "tags": [],
            "needs_background": "light"
          }
        }
      ]
    },
    {
      "cell_type": "markdown",
      "metadata": {
        "id": "Dig080Pg8Mqq"
      },
      "source": [
        "### References: https://github.com/saniikakulkarni/Gaussian-Mixture-Model-from-scratch/blob/main/Gaussian_Mixture_Model_from_scratch.ipynb\n",
        "### https://www.analyticsvidhya.com/blog/2019/10/gaussian-mixture-models-clustering/"
      ]
    }
  ]
}