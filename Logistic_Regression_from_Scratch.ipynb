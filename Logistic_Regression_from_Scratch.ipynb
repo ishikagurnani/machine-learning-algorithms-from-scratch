{
  "nbformat": 4,
  "nbformat_minor": 0,
  "metadata": {
    "colab": {
      "name": "Logistic_Regression_from_Scratch.ipynb",
      "provenance": []
    },
    "kernelspec": {
      "name": "python3",
      "display_name": "Python 3"
    },
    "language_info": {
      "name": "python"
    }
  },
  "cells": [
    {
      "cell_type": "markdown",
      "metadata": {
        "id": "nBkEdNpEytjd"
      },
      "source": [
        "### Importing all the libraries needed."
      ]
    },
    {
      "cell_type": "code",
      "metadata": {
        "id": "Yo3OnMeHo-rb"
      },
      "source": [
        "import numpy as np\n",
        "import pandas as pd\n",
        "from sklearn.model_selection import train_test_split\n",
        "from sklearn.metrics import confusion_matrix"
      ],
      "execution_count": 1,
      "outputs": []
    },
    {
      "cell_type": "markdown",
      "metadata": {
        "id": "EXxJpX4Lyynd"
      },
      "source": [
        "### Declaring the dataset provided for testing and training."
      ]
    },
    {
      "cell_type": "code",
      "metadata": {
        "id": "RJXEjOLTrT_y"
      },
      "source": [
        "training_dataset = ([[780, 4, 3, 1],\n",
        "                     [750, 3.9, 4, 1],\n",
        "                     [690, 3.3, 3, 0],\n",
        "                     [710, 3.7, 5, 1],\n",
        "                     [680, 3.9, 4, 0],\n",
        "                     [730, 3.7, 6, 1],\n",
        "                     [690, 2.3, 1, 0],\n",
        "                     [720, 3.3, 4, 1],\n",
        "                     [740, 3.3, 5, 1],\n",
        "                     [690, 1.7, 1, 0],\n",
        "                     [610, 2.7, 3, 0],\n",
        "                     [690, 3.7, 5, 1],\n",
        "                     [710, 3.7, 6, 1],\n",
        "                     [680, 3.3, 4, 0],\n",
        "                     [770, 3.3, 3, 1],\n",
        "                     [610, 3, 1, 0],\n",
        "                     [580, 2.7, 4, 0],\n",
        "                     [650, 3.7, 6, 1],\n",
        "                     [540, 2.7, 2, 0],\n",
        "                     [590, 2.3, 3, 0],\n",
        "                     [620, 3.3, 2, 1],\n",
        "                     [600, 2, 1, 0],\n",
        "                     [550, 2.3, 4, 0],\n",
        "                     [550, 2.7, 1, 0],\n",
        "                     [570, 3, 2, 0],\n",
        "                     [670, 3.3, 6, 1],\n",
        "                     [660, 3.7, 4, 1],\n",
        "                     [580, 2.3, 2, 0],\n",
        "                     [650, 3.7, 6, 1],\n",
        "                     [660, 3.3, 5, 1],\n",
        "                     [640, 3, 1, 0],\n",
        "                     [620, 2.7, 2, 0],\n",
        "                     [660, 4, 4, 1],\n",
        "                     [660, 3.3, 6, 1],\n",
        "                     [680, 3.3, 5, 1],\n",
        "                     [650, 2.3, 1, 0],\n",
        "                     [670, 2.7, 2, 0],\n",
        "                     [580, 3.3, 1, 0],\n",
        "                     [590, 1.7, 4, 0],\n",
        "                     [690, 3.7, 5, 1]])\n",
        "\n",
        "testing_dataset = ([[590, 2, 3],\n",
        "                    [740, 3.7, 4],\n",
        "                    [680, 3.3, 6],\n",
        "                    [610, 2.3, 1],\n",
        "                    [710, 3, 5]])"
      ],
      "execution_count": 2,
      "outputs": []
    },
    {
      "cell_type": "markdown",
      "metadata": {
        "id": "9wbfKPtpy7hq"
      },
      "source": [
        "### Converting the data type to dataframe using pandas.DataFrame"
      ]
    },
    {
      "cell_type": "code",
      "metadata": {
        "colab": {
          "base_uri": "https://localhost:8080/"
        },
        "id": "mkY6gy6zyEfN",
        "outputId": "08671ce6-cda9-4829-f2ed-a076d5c2e6a7"
      },
      "source": [
        "training_dataset = pd.DataFrame(training_dataset, columns = ['gmat','gpa','work_experience', 'admitted'])\n",
        "testing_dataset = pd.DataFrame(testing_dataset, columns = ['gmat','gpa','work_experience'])\n",
        "print(training_dataset) \n",
        "print(testing_dataset)"
      ],
      "execution_count": 3,
      "outputs": [
        {
          "output_type": "stream",
          "text": [
            "    gmat  gpa  work_experience  admitted\n",
            "0    780  4.0                3         1\n",
            "1    750  3.9                4         1\n",
            "2    690  3.3                3         0\n",
            "3    710  3.7                5         1\n",
            "4    680  3.9                4         0\n",
            "5    730  3.7                6         1\n",
            "6    690  2.3                1         0\n",
            "7    720  3.3                4         1\n",
            "8    740  3.3                5         1\n",
            "9    690  1.7                1         0\n",
            "10   610  2.7                3         0\n",
            "11   690  3.7                5         1\n",
            "12   710  3.7                6         1\n",
            "13   680  3.3                4         0\n",
            "14   770  3.3                3         1\n",
            "15   610  3.0                1         0\n",
            "16   580  2.7                4         0\n",
            "17   650  3.7                6         1\n",
            "18   540  2.7                2         0\n",
            "19   590  2.3                3         0\n",
            "20   620  3.3                2         1\n",
            "21   600  2.0                1         0\n",
            "22   550  2.3                4         0\n",
            "23   550  2.7                1         0\n",
            "24   570  3.0                2         0\n",
            "25   670  3.3                6         1\n",
            "26   660  3.7                4         1\n",
            "27   580  2.3                2         0\n",
            "28   650  3.7                6         1\n",
            "29   660  3.3                5         1\n",
            "30   640  3.0                1         0\n",
            "31   620  2.7                2         0\n",
            "32   660  4.0                4         1\n",
            "33   660  3.3                6         1\n",
            "34   680  3.3                5         1\n",
            "35   650  2.3                1         0\n",
            "36   670  2.7                2         0\n",
            "37   580  3.3                1         0\n",
            "38   590  1.7                4         0\n",
            "39   690  3.7                5         1\n",
            "   gmat  gpa  work_experience\n",
            "0   590  2.0                3\n",
            "1   740  3.7                4\n",
            "2   680  3.3                6\n",
            "3   610  2.3                1\n",
            "4   710  3.0                5\n"
          ],
          "name": "stdout"
        }
      ]
    },
    {
      "cell_type": "markdown",
      "metadata": {
        "id": "P2IWxBhUzNhS"
      },
      "source": [
        "### Dividing the dataset into X and y where X are the features and y is the target/label."
      ]
    },
    {
      "cell_type": "code",
      "metadata": {
        "colab": {
          "base_uri": "https://localhost:8080/"
        },
        "id": "kiDKTQj_1AOS",
        "outputId": "d598ddfb-e497-495d-f0c4-f1aed610b26c"
      },
      "source": [
        "X = training_dataset[['gmat', 'gpa', 'work_experience']]\n",
        "y = training_dataset[['admitted']]\n",
        "print(X[:5], y[:5])"
      ],
      "execution_count": 4,
      "outputs": [
        {
          "output_type": "stream",
          "text": [
            "   gmat  gpa  work_experience\n",
            "0   780  4.0                3\n",
            "1   750  3.9                4\n",
            "2   690  3.3                3\n",
            "3   710  3.7                5\n",
            "4   680  3.9                4    admitted\n",
            "0         1\n",
            "1         1\n",
            "2         0\n",
            "3         1\n",
            "4         0\n"
          ],
          "name": "stdout"
        }
      ]
    },
    {
      "cell_type": "markdown",
      "metadata": {
        "id": "7Bw_9MYqzW61"
      },
      "source": [
        "### Normalizing the X (features)."
      ]
    },
    {
      "cell_type": "code",
      "metadata": {
        "colab": {
          "base_uri": "https://localhost:8080/",
          "height": 204
        },
        "id": "74otUJUw6W9L",
        "outputId": "a8049c29-a9d5-4590-bfd8-5c8635b358fb"
      },
      "source": [
        "X = (X - np.min(X)) / (np.max(X) - np.min(X))\n",
        "X[:5]"
      ],
      "execution_count": 5,
      "outputs": [
        {
          "output_type": "execute_result",
          "data": {
            "text/html": [
              "<div>\n",
              "<style scoped>\n",
              "    .dataframe tbody tr th:only-of-type {\n",
              "        vertical-align: middle;\n",
              "    }\n",
              "\n",
              "    .dataframe tbody tr th {\n",
              "        vertical-align: top;\n",
              "    }\n",
              "\n",
              "    .dataframe thead th {\n",
              "        text-align: right;\n",
              "    }\n",
              "</style>\n",
              "<table border=\"1\" class=\"dataframe\">\n",
              "  <thead>\n",
              "    <tr style=\"text-align: right;\">\n",
              "      <th></th>\n",
              "      <th>gmat</th>\n",
              "      <th>gpa</th>\n",
              "      <th>work_experience</th>\n",
              "    </tr>\n",
              "  </thead>\n",
              "  <tbody>\n",
              "    <tr>\n",
              "      <th>0</th>\n",
              "      <td>1.000000</td>\n",
              "      <td>1.000000</td>\n",
              "      <td>0.4</td>\n",
              "    </tr>\n",
              "    <tr>\n",
              "      <th>1</th>\n",
              "      <td>0.875000</td>\n",
              "      <td>0.956522</td>\n",
              "      <td>0.6</td>\n",
              "    </tr>\n",
              "    <tr>\n",
              "      <th>2</th>\n",
              "      <td>0.625000</td>\n",
              "      <td>0.695652</td>\n",
              "      <td>0.4</td>\n",
              "    </tr>\n",
              "    <tr>\n",
              "      <th>3</th>\n",
              "      <td>0.708333</td>\n",
              "      <td>0.869565</td>\n",
              "      <td>0.8</td>\n",
              "    </tr>\n",
              "    <tr>\n",
              "      <th>4</th>\n",
              "      <td>0.583333</td>\n",
              "      <td>0.956522</td>\n",
              "      <td>0.6</td>\n",
              "    </tr>\n",
              "  </tbody>\n",
              "</table>\n",
              "</div>"
            ],
            "text/plain": [
              "       gmat       gpa  work_experience\n",
              "0  1.000000  1.000000              0.4\n",
              "1  0.875000  0.956522              0.6\n",
              "2  0.625000  0.695652              0.4\n",
              "3  0.708333  0.869565              0.8\n",
              "4  0.583333  0.956522              0.6"
            ]
          },
          "metadata": {
            "tags": []
          },
          "execution_count": 5
        }
      ]
    },
    {
      "cell_type": "markdown",
      "metadata": {
        "id": "GSbaWN6SzhNW"
      },
      "source": [
        "### __init__: the initial function to declare the learning rate and the number of iterations.\n",
        "### fit: m is the number of columns and n is the number of rows. Initializing weight and bias to 0. We update the weight everytime one iteration is complete.\n",
        "### update_weights: A here is sigmoid(wx+b), tmp is calculating the gradient function (minimize loss), and then just updating the bias and weight by multiplying with the learning rate.\n",
        "### predict: this is the function to make the predictions. "
      ]
    },
    {
      "cell_type": "code",
      "metadata": {
        "id": "MFe_xe-V6U7P"
      },
      "source": [
        "class LogisticRegression() :\n",
        "  def __init__(self, learning_rate, iterations):\t\t\n",
        "    self.learning_rate = learning_rate\n",
        "    self.iterations = iterations\n",
        "    \n",
        "  def fit(self, X, Y):\n",
        "    self.m, self.n = X.shape\n",
        "    self.W = np.zeros(self.n)\n",
        "    self.b = 0\n",
        "    self.X = X\n",
        "    self.Y = Y\n",
        "    \n",
        "    for i in range(self.iterations):\n",
        "      self.update_weights()\n",
        "    \n",
        "    return self\n",
        "    \n",
        "  def update_weights(self):\n",
        "    A = 1 / (1 + np.exp( - (self.X.dot( self.W ) + self.b)))\n",
        "    \n",
        "    tmp = (A - self.Y.T)\n",
        "    tmp = np.reshape(tmp, self.m)\n",
        "    dW = np.dot(self.X.T, tmp) / self.m\n",
        "    db = np.sum(tmp) / self.m\n",
        "    \n",
        "    self.W = self.W - self.learning_rate * dW\n",
        "    self.b = self.b - self.learning_rate * db\n",
        "    \n",
        "    return self\n",
        "    \n",
        "  def predict(self, X):\t\n",
        "    Z = 1 / (1 + np.exp( - (X.dot(self.W) + self.b)))\n",
        "    Y = np.where(Z > 0.5, 1, 0)\n",
        "    \n",
        "    return Y"
      ],
      "execution_count": 6,
      "outputs": []
    },
    {
      "cell_type": "markdown",
      "metadata": {
        "id": "VZwkvQQu9k4S"
      },
      "source": [
        "### Splitting X and y into training and validation sets using train_test_split()."
      ]
    },
    {
      "cell_type": "code",
      "metadata": {
        "id": "9r4_Fq6y1W7R"
      },
      "source": [
        "X_train, X_valid, y_train, y_valid = train_test_split(X, y, test_size=0.2, random_state=42)"
      ],
      "execution_count": 7,
      "outputs": []
    },
    {
      "cell_type": "code",
      "metadata": {
        "colab": {
          "base_uri": "https://localhost:8080/"
        },
        "id": "LR3jAJ21tq7O",
        "outputId": "93294fb3-2d6c-4c8f-920b-ff81f70c1c2e"
      },
      "source": [
        "X_train.shape, X_valid.shape, y_train.shape, y_valid.shape"
      ],
      "execution_count": 8,
      "outputs": [
        {
          "output_type": "execute_result",
          "data": {
            "text/plain": [
              "((32, 3), (8, 3), (32, 1), (8, 1))"
            ]
          },
          "metadata": {
            "tags": []
          },
          "execution_count": 8
        }
      ]
    },
    {
      "cell_type": "markdown",
      "metadata": {
        "id": "VRjfl72q9vUt"
      },
      "source": [
        "### Reshaping the size of the values."
      ]
    },
    {
      "cell_type": "code",
      "metadata": {
        "id": "LHukHjNJ9CMx"
      },
      "source": [
        "X_train = X_train.values.reshape(32, 3)\n",
        "y_train = y_train.values.reshape(32, 1)"
      ],
      "execution_count": 9,
      "outputs": []
    },
    {
      "cell_type": "code",
      "metadata": {
        "id": "0EJl4r149xUJ"
      },
      "source": [
        "X_valid = X_valid.values.reshape(8, 3)\n",
        "y_valid = y_valid.values.reshape(8, 1)"
      ],
      "execution_count": 10,
      "outputs": []
    },
    {
      "cell_type": "markdown",
      "metadata": {
        "id": "nHiv57P-91O3"
      },
      "source": [
        "### Executing the LogisticRegression function just made above with a learning rate of 0.01 and 1000 iterations"
      ]
    },
    {
      "cell_type": "code",
      "metadata": {
        "id": "MCfUhCRv8QR2"
      },
      "source": [
        "regressor = LogisticRegression(learning_rate = 0.01, iterations = 1000)"
      ],
      "execution_count": 11,
      "outputs": []
    },
    {
      "cell_type": "code",
      "metadata": {
        "id": "ys7JO_4S8WBK"
      },
      "source": [
        "regressor.fit(X_train, y_train)\n",
        "val_prediction = regressor.predict(X_valid)"
      ],
      "execution_count": 12,
      "outputs": []
    },
    {
      "cell_type": "code",
      "metadata": {
        "id": "BxStYV1IYtiN"
      },
      "source": [
        "test_prediction = regressor.predict(testing_dataset)"
      ],
      "execution_count": 13,
      "outputs": []
    },
    {
      "cell_type": "markdown",
      "metadata": {
        "id": "qiEP6PpFegE2"
      },
      "source": [
        "### A function to get the accuracy of the model."
      ]
    },
    {
      "cell_type": "code",
      "metadata": {
        "id": "GLeViJyLbjNk"
      },
      "source": [
        "correct = 0\n",
        "count = 0    \n",
        "for count in range(np.size(val_prediction)):\n",
        "  if y_valid[count] == val_prediction[count]:\n",
        "    correct = correct + 1"
      ],
      "execution_count": 14,
      "outputs": []
    },
    {
      "cell_type": "code",
      "metadata": {
        "colab": {
          "base_uri": "https://localhost:8080/"
        },
        "id": "Ff0hIzq-dDzm",
        "outputId": "63bbdbb1-0995-4e8c-c497-3ab6cfdf53a8"
      },
      "source": [
        "print(\"Validation Accuracy: \", (correct / count ) * 100)"
      ],
      "execution_count": 15,
      "outputs": [
        {
          "output_type": "stream",
          "text": [
            "Validation Accuracy:  71.42857142857143\n"
          ],
          "name": "stdout"
        }
      ]
    },
    {
      "cell_type": "code",
      "metadata": {
        "colab": {
          "base_uri": "https://localhost:8080/"
        },
        "id": "0jLEV7axd2GF",
        "outputId": "95c586be-a4ac-496e-c430-f646efe3dd88"
      },
      "source": [
        "test_prediction"
      ],
      "execution_count": 16,
      "outputs": [
        {
          "output_type": "execute_result",
          "data": {
            "text/plain": [
              "array([1, 1, 1, 1, 1])"
            ]
          },
          "metadata": {
            "tags": []
          },
          "execution_count": 16
        }
      ]
    },
    {
      "cell_type": "markdown",
      "metadata": {
        "id": "vAlxn1LAencP"
      },
      "source": [
        "### Confusion Matrix on the Validation Set"
      ]
    },
    {
      "cell_type": "code",
      "metadata": {
        "id": "rJ297FT0BDlg"
      },
      "source": [
        "cf = confusion_matrix(y_valid, val_prediction)"
      ],
      "execution_count": 17,
      "outputs": []
    },
    {
      "cell_type": "code",
      "metadata": {
        "id": "4tFcUwULDcZv",
        "colab": {
          "base_uri": "https://localhost:8080/",
          "height": 286
        },
        "outputId": "4fce5292-7c67-4ecd-d662-c6fa2d973ae1"
      },
      "source": [
        "import seaborn as sns\n",
        "sns.heatmap(cf, annot=True)"
      ],
      "execution_count": 18,
      "outputs": [
        {
          "output_type": "execute_result",
          "data": {
            "text/plain": [
              "<matplotlib.axes._subplots.AxesSubplot at 0x7f38728ce750>"
            ]
          },
          "metadata": {
            "tags": []
          },
          "execution_count": 18
        },
        {
          "output_type": "display_data",
          "data": {
            "image/png": "[encoded data removed]",
            "text/plain": [
              "<Figure size 432x288 with 2 Axes>"
            ]
          },
          "metadata": {
            "tags": [],
            "needs_background": "light"
          }
        }
      ]
    },
    {
      "cell_type": "markdown",
      "metadata": {
        "id": "xbqDJPHWxRB_"
      },
      "source": [
        "### References: https://www.geeksforgeeks.org/implementation-of-logistic-regression-from-scratch-using-python/"
      ]
    }
  ]
}