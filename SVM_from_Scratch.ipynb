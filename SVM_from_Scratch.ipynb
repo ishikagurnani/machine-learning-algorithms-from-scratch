{
  "nbformat": 4,
  "nbformat_minor": 0,
  "metadata": {
    "colab": {
      "name": "SVM_from_Scratch.ipynb",
      "provenance": []
    },
    "kernelspec": {
      "name": "python3",
      "display_name": "Python 3"
    },
    "language_info": {
      "name": "python"
    }
  },
  "cells": [
    {
      "cell_type": "markdown",
      "metadata": {
        "id": "-fr8C4k9E7Lf"
      },
      "source": [
        "### Importing all the libraries needed."
      ]
    },
    {
      "cell_type": "code",
      "metadata": {
        "id": "k5z8vkkJKPDT"
      },
      "source": [
        "import numpy as np\n",
        "import pandas as pd\n",
        "import matplotlib.pyplot as plt\n",
        "from sklearn.preprocessing import StandardScaler"
      ],
      "execution_count": null,
      "outputs": []
    },
    {
      "cell_type": "markdown",
      "metadata": {
        "id": "MYiYev1sE_Jp"
      },
      "source": [
        "### Read the dataset provided using pandas read_csv()."
      ]
    },
    {
      "cell_type": "code",
      "metadata": {
        "colab": {
          "base_uri": "https://localhost:8080/",
          "height": 204
        },
        "id": "qN5-dcBkK4q7",
        "outputId": "ecb8176e-d988-4062-bade-8f8b8ad34f83"
      },
      "source": [
        "dataset = pd.read_csv('UAS_ML2021_DATASET01.csv')\n",
        "dataset.head()"
      ],
      "execution_count": null,
      "outputs": [
        {
          "output_type": "execute_result",
          "data": {
            "text/html": [
              "<div>\n",
              "<style scoped>\n",
              "    .dataframe tbody tr th:only-of-type {\n",
              "        vertical-align: middle;\n",
              "    }\n",
              "\n",
              "    .dataframe tbody tr th {\n",
              "        vertical-align: top;\n",
              "    }\n",
              "\n",
              "    .dataframe thead th {\n",
              "        text-align: right;\n",
              "    }\n",
              "</style>\n",
              "<table border=\"1\" class=\"dataframe\">\n",
              "  <thead>\n",
              "    <tr style=\"text-align: right;\">\n",
              "      <th></th>\n",
              "      <th>Attrib_01</th>\n",
              "      <th>Attrib_02</th>\n",
              "      <th>Label</th>\n",
              "    </tr>\n",
              "  </thead>\n",
              "  <tbody>\n",
              "    <tr>\n",
              "      <th>0</th>\n",
              "      <td>-2.264542</td>\n",
              "      <td>-0.505704</td>\n",
              "      <td>1</td>\n",
              "    </tr>\n",
              "    <tr>\n",
              "      <th>1</th>\n",
              "      <td>-2.086426</td>\n",
              "      <td>0.655405</td>\n",
              "      <td>1</td>\n",
              "    </tr>\n",
              "    <tr>\n",
              "      <th>2</th>\n",
              "      <td>-2.367950</td>\n",
              "      <td>0.318477</td>\n",
              "      <td>1</td>\n",
              "    </tr>\n",
              "    <tr>\n",
              "      <th>3</th>\n",
              "      <td>-2.304197</td>\n",
              "      <td>0.575368</td>\n",
              "      <td>1</td>\n",
              "    </tr>\n",
              "    <tr>\n",
              "      <th>4</th>\n",
              "      <td>-2.388777</td>\n",
              "      <td>-0.674767</td>\n",
              "      <td>1</td>\n",
              "    </tr>\n",
              "  </tbody>\n",
              "</table>\n",
              "</div>"
            ],
            "text/plain": [
              "   Attrib_01  Attrib_02  Label\n",
              "0  -2.264542  -0.505704      1\n",
              "1  -2.086426   0.655405      1\n",
              "2  -2.367950   0.318477      1\n",
              "3  -2.304197   0.575368      1\n",
              "4  -2.388777  -0.674767      1"
            ]
          },
          "metadata": {
            "tags": []
          },
          "execution_count": 2
        }
      ]
    },
    {
      "cell_type": "markdown",
      "metadata": {
        "id": "Wy9TVGi7FBEY"
      },
      "source": [
        "### Dividing the dataset into X and y where X are the features and y is the target/label. "
      ]
    },
    {
      "cell_type": "code",
      "metadata": {
        "colab": {
          "base_uri": "https://localhost:8080/"
        },
        "id": "ra4iw86OLCp4",
        "outputId": "0312213c-821a-49ef-9803-2582567cb4a3"
      },
      "source": [
        "X = dataset[['Attrib_01', 'Attrib_02']]\n",
        "y = dataset[['Label']]\n",
        "print(X)\n",
        "print(y)"
      ],
      "execution_count": null,
      "outputs": [
        {
          "output_type": "stream",
          "text": [
            "     Attrib_01  Attrib_02\n",
            "0    -2.264542  -0.505704\n",
            "1    -2.086426   0.655405\n",
            "2    -2.367950   0.318477\n",
            "3    -2.304197   0.575368\n",
            "4    -2.388777  -0.674767\n",
            "..         ...        ...\n",
            "145   1.870522  -0.382822\n",
            "146   1.558492   0.905314\n",
            "147   1.520845  -0.266795\n",
            "148   1.376391  -1.016362\n",
            "149   0.959299   0.022284\n",
            "\n",
            "[150 rows x 2 columns]\n",
            "     Label\n",
            "0        1\n",
            "1        1\n",
            "2        1\n",
            "3        1\n",
            "4        1\n",
            "..     ...\n",
            "145      0\n",
            "146      0\n",
            "147      0\n",
            "148      0\n",
            "149      0\n",
            "\n",
            "[150 rows x 1 columns]\n"
          ],
          "name": "stdout"
        }
      ]
    },
    {
      "cell_type": "markdown",
      "metadata": {
        "id": "6JHdPvHwFcZ1"
      },
      "source": [
        "### Normalizing the dataset using StandardScaler."
      ]
    },
    {
      "cell_type": "code",
      "metadata": {
        "colab": {
          "base_uri": "https://localhost:8080/"
        },
        "id": "mwAvrfF5Xulm",
        "outputId": "5fc452b9-00d3-4ad2-eab5-3cc49d3f8799"
      },
      "source": [
        "sc = StandardScaler()\n",
        "X = sc.fit_transform(X)\n",
        "print(X[:5])"
      ],
      "execution_count": null,
      "outputs": [
        {
          "output_type": "stream",
          "text": [
            "[[-1.32731131 -0.52688327]\n",
            " [-1.2229124   0.68285371]\n",
            " [-1.38792206  0.33181545]\n",
            " [-1.35055447  0.59946466]\n",
            " [-1.40012937 -0.7030273 ]]\n"
          ],
          "name": "stdout"
        }
      ]
    },
    {
      "cell_type": "markdown",
      "metadata": {
        "id": "aBuKRRpFFiHC"
      },
      "source": [
        "### Replacing the label 0 to -1."
      ]
    },
    {
      "cell_type": "code",
      "metadata": {
        "colab": {
          "base_uri": "https://localhost:8080/"
        },
        "id": "w61IgcbrMyEc",
        "outputId": "3c06b4fa-459d-4828-8833-ea366fdc9c40"
      },
      "source": [
        "y = dataset['Label'].replace(0, -1)\n",
        "y"
      ],
      "execution_count": null,
      "outputs": [
        {
          "output_type": "execute_result",
          "data": {
            "text/plain": [
              "0      1\n",
              "1      1\n",
              "2      1\n",
              "3      1\n",
              "4      1\n",
              "      ..\n",
              "145   -1\n",
              "146   -1\n",
              "147   -1\n",
              "148   -1\n",
              "149   -1\n",
              "Name: Label, Length: 150, dtype: int64"
            ]
          },
          "metadata": {
            "tags": []
          },
          "execution_count": 5
        }
      ]
    },
    {
      "cell_type": "markdown",
      "metadata": {
        "id": "DKYOtxGIFtZR"
      },
      "source": [
        "### __init__: initializing values for learning rate, lamda, the number of iterations and assigning w and b as None.\n",
        "### fit: Assigning the shape for number or samples and features which would be the shape of out array X. Making sure that y only includes 1 and -1. For each features we initialize the weights and bias to zero. If y times the linear function is >= 1, the formula for the new weight is learning rata * 2 * lamba * weight. If not then it's learning rata * 2 * lamba * weight minus the function. For bias it's just the learning rate multiply the y in the current index.\n",
        "### predict: this is the predict function to carry out the predictions made."
      ]
    },
    {
      "cell_type": "code",
      "metadata": {
        "id": "_t0yL_yINLeK"
      },
      "source": [
        "class SVM:\n",
        "  def __init__(self, learning_rate=0.1, lambda_param=0.01, n_iters=1000):\n",
        "    self.lr = learning_rate\n",
        "    self.lambda_param = lambda_param\n",
        "    self.n_iters = n_iters\n",
        "    self.w = None\n",
        "    self.b = None\n",
        "\n",
        "  def fit(self, X, y):\n",
        "    n_samples, n_features = X.shape\n",
        "\n",
        "    y_ = np.where(y <= 0, -1, 1)\n",
        "\n",
        "    self.w = np.zeros(n_features)\n",
        "    self.b = 0\n",
        "\n",
        "    for _ in range(self.n_iters):\n",
        "      for idx, x_i in enumerate(X):\n",
        "        condition = y_[idx] * (np.dot(x_i, self.w) - self.b) >= 1\n",
        "        if condition:\n",
        "          self.w -= self.lr * (2 * self.lambda_param * self.w)\n",
        "        else:\n",
        "          self.w -= self.lr * (\n",
        "              2 * self.lambda_param * self.w - np.dot(x_i, y_[idx])\n",
        "          )\n",
        "          self.b -= self.lr * y_[idx]\n",
        "\n",
        "    def predict(self, X):\n",
        "      approx = np.dot(X, self.w) - self.b\n",
        "      return np.sign(approx)"
      ],
      "execution_count": null,
      "outputs": []
    },
    {
      "cell_type": "markdown",
      "metadata": {
        "id": "1LIZEWkcMW6s"
      },
      "source": [
        "### A function to visualize the classification."
      ]
    },
    {
      "cell_type": "code",
      "metadata": {
        "id": "SA-ljODaTiCb"
      },
      "source": [
        "def visualize_svm(model):\n",
        "  def get_hyperplane_value(x, w, b, offset):\n",
        "    return (-w[0] * x + b + offset) / w[1]\n",
        "\n",
        "  fig = plt.figure()\n",
        "  ax = fig.add_subplot(1, 1, 1)\n",
        "  plt.scatter(X[:, 0], X[:, 1], marker=\"o\", c=y)\n",
        "\n",
        "  x0_1 = np.amin(X[:, 0])\n",
        "  x0_2 = np.amax(X[:, 0])\n",
        "\n",
        "  x1_1 = get_hyperplane_value(x0_1, model.w, model.b, 0)\n",
        "  x1_2 = get_hyperplane_value(x0_2, model.w, model.b, 0)\n",
        "\n",
        "  x1_1_m = get_hyperplane_value(x0_1, model.w, model.b, -1)\n",
        "  x1_2_m = get_hyperplane_value(x0_2, model.w, model.b, -1)\n",
        "\n",
        "  x1_1_p = get_hyperplane_value(x0_1, model.w, model.b, 1)\n",
        "  x1_2_p = get_hyperplane_value(x0_2, model.w, model.b, 1)\n",
        "\n",
        "  ax.plot([x0_1, x0_2], [x1_1, x1_2], \"y--\")\n",
        "  ax.plot([x0_1, x0_2], [x1_1_m, x1_2_m], \"k\")\n",
        "  ax.plot([x0_1, x0_2], [x1_1_p, x1_2_p], \"k\")\n",
        "\n",
        "  x1_min = np.amin(X[:, 1])\n",
        "  x1_max = np.amax(X[:, 1])\n",
        "  ax.set_ylim([x1_min - 3, x1_max + 3])\n",
        "\n",
        "  plt.show()"
      ],
      "execution_count": null,
      "outputs": []
    },
    {
      "cell_type": "markdown",
      "metadata": {
        "id": "CFMeusEwMdRB"
      },
      "source": [
        "### Executing the SVM class that I just made. I have printed the weights and bias I've got also below."
      ]
    },
    {
      "cell_type": "code",
      "metadata": {
        "colab": {
          "base_uri": "https://localhost:8080/"
        },
        "id": "dPYUgxgrO9bA",
        "outputId": "4eda3795-93c8-41b1-dc30-c027f5c661fb"
      },
      "source": [
        "svm_scratch = SVM()\n",
        "svm_scratch.fit(X, y)\n",
        "\n",
        "print(svm_scratch.w, svm_scratch.b)"
      ],
      "execution_count": null,
      "outputs": [
        {
          "output_type": "stream",
          "text": [
            "[-1.41440979 -0.26601529] 0.9999999999999999\n"
          ],
          "name": "stdout"
        }
      ]
    },
    {
      "cell_type": "markdown",
      "metadata": {
        "id": "yXJPeknsMxKr"
      },
      "source": [
        "### Plotting the svm_scratch model."
      ]
    },
    {
      "cell_type": "code",
      "metadata": {
        "colab": {
          "base_uri": "https://localhost:8080/",
          "height": 265
        },
        "id": "oLA_Vq_OT98U",
        "outputId": "ffc93a8f-e07f-49e0-9e3b-eada0a8d3a0a"
      },
      "source": [
        "visualize_svm(svm_scratch)"
      ],
      "execution_count": null,
      "outputs": [
        {
          "output_type": "display_data",
          "data": {
            "image/png": "[encoded data removed]",
            "text/plain": [
              "<Figure size 432x288 with 1 Axes>"
            ]
          },
          "metadata": {
            "tags": [],
            "needs_background": "light"
          }
        }
      ]
    },
    {
      "cell_type": "markdown",
      "metadata": {
        "id": "FDXAG05QM9WD"
      },
      "source": [
        "### Using the SVC model from scikit to compare the results."
      ]
    },
    {
      "cell_type": "code",
      "metadata": {
        "colab": {
          "base_uri": "https://localhost:8080/"
        },
        "id": "3SD37ENIYILX",
        "outputId": "91b0087d-033b-4801-cdca-9cdae27349fb"
      },
      "source": [
        "from sklearn.svm import SVC\n",
        "svm_library = SVC(kernel = 'linear', random_state = 0)\n",
        "svm_library.fit(X, y)"
      ],
      "execution_count": null,
      "outputs": [
        {
          "output_type": "execute_result",
          "data": {
            "text/plain": [
              "SVC(C=1.0, break_ties=False, cache_size=200, class_weight=None, coef0=0.0,\n",
              "    decision_function_shape='ovr', degree=3, gamma='scale', kernel='linear',\n",
              "    max_iter=-1, probability=False, random_state=0, shrinking=True, tol=0.001,\n",
              "    verbose=False)"
            ]
          },
          "metadata": {
            "tags": []
          },
          "execution_count": 10
        }
      ]
    },
    {
      "cell_type": "markdown",
      "metadata": {
        "id": "Ykh-JZ3pNEKH"
      },
      "source": [
        "### From the weights and bias obtained using the scikit library I can conclude that SVM from scratch and using the library gave me similar results"
      ]
    },
    {
      "cell_type": "code",
      "metadata": {
        "colab": {
          "base_uri": "https://localhost:8080/"
        },
        "id": "dyVFqm35gark",
        "outputId": "8a60d73c-621a-4e75-fd87-e4e95fd5a029"
      },
      "source": [
        "print(svm_library.coef_, svm_library.intercept_)"
      ],
      "execution_count": null,
      "outputs": [
        {
          "output_type": "stream",
          "text": [
            "[[-1.74653549 -0.31998812]] [-0.89365651]\n"
          ],
          "name": "stdout"
        }
      ]
    },
    {
      "cell_type": "markdown",
      "metadata": {
        "id": "3udwX7-NyXeh"
      },
      "source": [
        "### References: https://www.python-engineer.com/courses/mlfromscratch/07_svm/"
      ]
    }
  ]
}